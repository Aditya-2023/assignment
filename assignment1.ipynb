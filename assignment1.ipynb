{
 "cells": [
  {
   "cell_type": "markdown",
   "id": "1c0a4c96-2053-4d50-8bc5-22d4d88fb200",
   "metadata": {},
   "source": [
    "1. Who developed python programming language?\n",
    "\n",
    "Answer: Python is a popular programming language. It was created by Guido van Rossum, and released in 1991.\n",
    "\n"
   ]
  },
  {
   "cell_type": "markdown",
   "id": "424d92d8-e75c-4089-a2f8-95ba4e13d351",
   "metadata": {
    "tags": []
   },
   "source": [
    "2. Which type of programming does python support?\n",
    "\n",
    "Answer: Python is a multi-paradigm programming language. Object-oriented programming and structured programming are \n",
    "fully supported, and many of their features support functional programming and aspect-oriented programming \n",
    "(including metaprogramming and metaobjects).\n"
   ]
  },
  {
   "cell_type": "markdown",
   "id": "2d767932-6c25-4cea-b3ce-d612ab37c7b3",
   "metadata": {},
   "source": [
    "3. Is python case sensitive when dealing with identifiers?\n",
    "Answer: yes , python case sensitive when dealing with identifiers.\n"
   ]
  },
  {
   "cell_type": "markdown",
   "id": "aa931a3f-e848-4f6a-bb3f-a9eeab4d4570",
   "metadata": {},
   "source": [
    "4. what is the correct extension of the python file?\n",
    "\n",
    "Answer : Python is a widely used programming or coding language used for different purposes. The extensions for Python files are - . py, . pyi, ."
   ]
  },
  {
   "cell_type": "markdown",
   "id": "e44239b5-d42c-43b7-898f-63664ddcc082",
   "metadata": {},
   "source": [
    "5. Is python code compile or interpreted?\n",
    "Answer : Python is an interpreted language, which means the source code of a Python program is converted into bytecode that is then executed by the Python virtual machine. \n"
   ]
  },
  {
   "cell_type": "markdown",
   "id": "90de6d34-7279-4c3d-84e1-340ed0bd127e",
   "metadata": {},
   "source": [
    "6. Name a few blocks of code used to define in python language?\n",
    "\n",
    "Answer :Indentation is used to define a block of code in python. Braces {} are used to define a block of code in most programming languages."
   ]
  },
  {
   "cell_type": "markdown",
   "id": "ff0159d8-65d9-4cc4-beb8-63e15ebc7eff",
   "metadata": {},
   "source": [
    "7. State a character used to give single- line comments in python?\n",
    "\n",
    "Answer : Python offers a pretty simple and straightforward way to write a comment. We can write a single-line comment by adding a single # character before any statement or line of code."
   ]
  },
  {
   "cell_type": "markdown",
   "id": "a141af69-2908-4474-8ef6-2b4c8df06d60",
   "metadata": {},
   "source": [
    "8. Mention function which can help us to find the version of python that we are currently working on?  \n",
    "\n",
    "Answer : The function sys. version can help us to find the version of python that we are currently working on."
   ]
  },
  {
   "cell_type": "markdown",
   "id": "918d4474-6fe8-4a9c-8912-bdd72b320883",
   "metadata": {},
   "source": [
    "9. Python supports to make anonymous functions which are not bound to a name(@ runtime). It uses a construct called ..............................\n",
    "Answer : Python supports to make anonymous functions which are not bound to a name(@ runtime). It uses a construct called \"lambda\""
   ]
  },
  {
   "cell_type": "markdown",
   "id": "45c1f125-a27c-4a65-9357-7046367efc93",
   "metadata": {},
   "source": [
    "10. What does pip stand for python ?\n",
    "\n",
    "Answer : Preferred Installer Program"
   ]
  },
  {
   "cell_type": "markdown",
   "id": "1c5c0e03-5b46-493a-9297-5ed78d3a85ea",
   "metadata": {},
   "source": [
    "11. Mention a few built-in functions in python ?\n",
    "\n",
    "Answer : \n",
    "print( ) function\n",
    "type( ) function\n",
    "input( ) function\n",
    "abs( ) function\n",
    "pow( ) function\n",
    "dir( ) function\n",
    "sorted( ) function\n",
    "max( ) function\n",
    "round( ) function\n",
    "divmod( ) function\n",
    "id( ) function\n",
    "ord( ) function\n",
    "len( ) function\n",
    "sum( ) function\n",
    "help( ) function\n"
   ]
  },
  {
   "cell_type": "markdown",
   "id": "f153d8ae-3eaa-4d70-a150-64b9c82dac75",
   "metadata": {},
   "source": [
    "12. What is the maximum possible length of an identifier in python ?\n",
    "\n",
    "Answer : An identifier can have a maximum length of 79 characters in Python.\n"
   ]
  },
  {
   "cell_type": "markdown",
   "id": "34d0a894-d3ad-445c-983d-898af2f4c114",
   "metadata": {},
   "source": [
    "13. What are the benefits of using python?\n",
    "Answer : Advantages of Python: simple, clean, and fast to write."
   ]
  },
  {
   "cell_type": "markdown",
   "id": "56b90ce2-b5c7-4a54-8708-3cf798e71c83",
   "metadata": {},
   "source": [
    "14. How is memory managed in python?\n",
    "\n",
    "Answer : Memory in Python is managed by Python private heap space. All Python objects and data structures are located in a private heap."
   ]
  },
  {
   "cell_type": "markdown",
   "id": "f8616e84-c83a-4abe-808b-acd17813f3da",
   "metadata": {},
   "source": [
    "15. How to install python on windows and set path varibles?\n",
    "\n",
    "Answer : The complete path of python.exe can be added by:\n",
    "\n",
    "Right-clicking This PC and going to Properties.\n",
    "\n",
    "Clicking on the Advanced system settings in the menu on the left.\n",
    "\n",
    "Clicking on the Environment Variables button on the bottom right.\n",
    "\n",
    "In the System variables section, selecting the Path variable and clicking on Edit. The next screen will show all the directories that are currently a part of the PATH variable.\n",
    "\n",
    "Clicking on New and entering Python’s install directory."
   ]
  },
  {
   "cell_type": "markdown",
   "id": "25ef1b99-334e-4fb4-9c36-9c24eee65716",
   "metadata": {},
   "source": [
    "16. Is indentation required in python?\n",
    "\n",
    "Answer : Indentation is mandatory in python to define the blocks of statements. It is preferred to use whitespaces instead of tabs to indent in python. Python uses four spaces as default indentation spaces."
   ]
  },
  {
   "cell_type": "code",
   "execution_count": null,
   "id": "cf16af5e-2d1c-4ec7-aaa9-b485c8b7507e",
   "metadata": {},
   "outputs": [],
   "source": []
  }
 ],
 "metadata": {
  "kernelspec": {
   "display_name": "Python 3 (ipykernel)",
   "language": "python",
   "name": "python3"
  },
  "language_info": {
   "codemirror_mode": {
    "name": "ipython",
    "version": 3
   },
   "file_extension": ".py",
   "mimetype": "text/x-python",
   "name": "python",
   "nbconvert_exporter": "python",
   "pygments_lexer": "ipython3",
   "version": "3.10.6"
  }
 },
 "nbformat": 4,
 "nbformat_minor": 5
}
